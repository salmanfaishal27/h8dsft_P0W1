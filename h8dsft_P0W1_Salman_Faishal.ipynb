{
 "cells": [
  {
   "cell_type": "markdown",
   "metadata": {},
   "source": [
    "# Hacktiv8 Phase 0: Graded Challenge 1\n",
    "\n",
    "---"
   ]
  },
  {
   "cell_type": "markdown",
   "metadata": {},
   "source": [
    "# Introduction"
   ]
  },
  {
   "cell_type": "markdown",
   "metadata": {},
   "source": [
    "Name : [Salman Faishal](https://github.com/salmanfaishal27)\n",
    "\n",
    "Batch : 017"
   ]
  },
  {
   "cell_type": "markdown",
   "metadata": {},
   "source": [
    "# Description"
   ]
  },
  {
   "cell_type": "markdown",
   "metadata": {},
   "source": [
    "Dataset yang digunakan pada project ini adalah dataset yang berisi tentang data covid yang bersumber dari [Google Cloud Big Query]('https://console.cloud.google.com/bigquery?p=bigquery-public-data&d=covid19_jhu_csse_eu&page=dataset&project=rock-wonder-317907&ws=!1m4!1m3!3m2!1sbigquery-public-data!2scovid19_jhu_csse_eu) dengan menggunakan tabel ```summary```, tabel ini diperbarui pada tanggal 5 desember 2022 12:17:39 AM UTC+7, pada project ini data yang digunakan adalah data  yang sudah di filter sesuai dengan kebutuhan analisis sehingga dataset ini berisi 33587 baris data dan 7 kolom yang digunakan yaitu province_state, country_region, date, confirmed, deaths, recovered, dan active, dataset ini memiliki data dari 2020-03-11 sampai 2022-12-03"
   ]
  },
  {
   "cell_type": "markdown",
   "metadata": {},
   "source": [
    "## Objective"
   ]
  },
  {
   "cell_type": "markdown",
   "metadata": {},
   "source": [
    "Graded Challenge 1 ini dibuat guna mengevaluasi konsep Basic SQL, Python, serta Data Preparation with Pandas sebagai berikut:\n",
    "\n",
    "- Mampu memuat data dengan Pandas\n",
    "- Mampu menangani missing values pada dataset\n",
    "- Mampu melakukan manipulasi kolom\n",
    "- Mampu membuat query terhadap dataset\n",
    "- Mampu melakukan grouping terhadap dataset\n",
    "- Mampu melakukan visualisasi sederhana menggunakan Pandas"
   ]
  },
  {
   "cell_type": "markdown",
   "metadata": {},
   "source": [
    "## Problem statement"
   ]
  },
  {
   "cell_type": "markdown",
   "metadata": {},
   "source": [
    "1. Daerah mana yang memiliki tingkat kematian tertinggi di negara China?\n",
    "2. Tahun berapa dan dimana terjadinya kasus kematian tertinggi di negara China?\n",
    "3. Didaerah mana kasus baru terbanyak ditemukan dinegara China?\n",
    "\n"
   ]
  },
  {
   "cell_type": "markdown",
   "metadata": {},
   "source": [
    "# Working Area"
   ]
  },
  {
   "cell_type": "markdown",
   "metadata": {},
   "source": [
    "Query yang digunakan pada saat mengambil dataset di [Google Cloud Big Query](https://console.cloud.google.com/bigquery?p=bigquery-public-data&d=covid19_jhu_csse_eu&page=dataset&project=rock-wonder-317907)\n",
    "\n",
    "```\n",
    "SELECT province_state, country_region, date, confirmed, deaths, recovered, active \n",
    "FROM bigquery-public-data.covid19_jhu_csse_eu.summary\n",
    "WHERE country_region = 'China'\n",
    "```\n",
    "\n",
    "Query tersebut digunakan untuk mengambil kolom ```province_state, country_region, date, confirmed, deaths, recovered, active``` pada tabel ```summary``` pada database covid19_jhu_csse_eu"
   ]
  },
  {
   "cell_type": "markdown",
   "metadata": {},
   "source": [
    "## Import Libraries"
   ]
  },
  {
   "cell_type": "markdown",
   "metadata": {},
   "source": [
    "Mengimport library yang akan digunakan, dalam project ini library yang digunakan pandas dan matplotlib."
   ]
  },
  {
   "cell_type": "code",
   "execution_count": 1,
   "metadata": {},
   "outputs": [],
   "source": [
    "import pandas as pd\n",
    "import matplotlib.pyplot as plt"
   ]
  },
  {
   "cell_type": "markdown",
   "metadata": {},
   "source": [
    "Melakukan setting agar pandas menampilkan seluruh kolom pada dataframe."
   ]
  },
  {
   "cell_type": "code",
   "execution_count": 2,
   "metadata": {},
   "outputs": [],
   "source": [
    "pd.set_option(\"display.max.columns\", None)"
   ]
  },
  {
   "cell_type": "markdown",
   "metadata": {},
   "source": [
    "## Data Loading"
   ]
  },
  {
   "cell_type": "code",
   "execution_count": 3,
   "metadata": {},
   "outputs": [],
   "source": [
    "data_covid = pd.read_csv('h8dsft_P0GC1_Salman_Faishal.csv')"
   ]
  },
  {
   "cell_type": "markdown",
   "metadata": {},
   "source": [
    "membuat data frame dari file ```h8dsft_P0GC1_Salman_Faishal.csv```"
   ]
  },
  {
   "cell_type": "code",
   "execution_count": 4,
   "metadata": {},
   "outputs": [
    {
     "data": {
      "text/html": [
       "<div>\n",
       "<style scoped>\n",
       "    .dataframe tbody tr th:only-of-type {\n",
       "        vertical-align: middle;\n",
       "    }\n",
       "\n",
       "    .dataframe tbody tr th {\n",
       "        vertical-align: top;\n",
       "    }\n",
       "\n",
       "    .dataframe thead th {\n",
       "        text-align: right;\n",
       "    }\n",
       "</style>\n",
       "<table border=\"1\" class=\"dataframe\">\n",
       "  <thead>\n",
       "    <tr style=\"text-align: right;\">\n",
       "      <th></th>\n",
       "      <th>province_state</th>\n",
       "      <th>country_region</th>\n",
       "      <th>date</th>\n",
       "      <th>confirmed</th>\n",
       "      <th>deaths</th>\n",
       "      <th>recovered</th>\n",
       "      <th>active</th>\n",
       "    </tr>\n",
       "  </thead>\n",
       "  <tbody>\n",
       "    <tr>\n",
       "      <th>0</th>\n",
       "      <td>Hong Kong</td>\n",
       "      <td>China</td>\n",
       "      <td>2022-03-15</td>\n",
       "      <td>647631</td>\n",
       "      <td>4568</td>\n",
       "      <td>NaN</td>\n",
       "      <td>NaN</td>\n",
       "    </tr>\n",
       "    <tr>\n",
       "      <th>1</th>\n",
       "      <td>Hong Kong</td>\n",
       "      <td>China</td>\n",
       "      <td>2022-06-10</td>\n",
       "      <td>1217510</td>\n",
       "      <td>9390</td>\n",
       "      <td>NaN</td>\n",
       "      <td>NaN</td>\n",
       "    </tr>\n",
       "    <tr>\n",
       "      <th>2</th>\n",
       "      <td>Hong Kong</td>\n",
       "      <td>China</td>\n",
       "      <td>2021-05-04</td>\n",
       "      <td>11790</td>\n",
       "      <td>210</td>\n",
       "      <td>11451.0</td>\n",
       "      <td>129.0</td>\n",
       "    </tr>\n",
       "    <tr>\n",
       "      <th>3</th>\n",
       "      <td>Hong Kong</td>\n",
       "      <td>China</td>\n",
       "      <td>2020-10-11</td>\n",
       "      <td>5182</td>\n",
       "      <td>105</td>\n",
       "      <td>4919.0</td>\n",
       "      <td>158.0</td>\n",
       "    </tr>\n",
       "    <tr>\n",
       "      <th>4</th>\n",
       "      <td>Hong Kong</td>\n",
       "      <td>China</td>\n",
       "      <td>2020-10-14</td>\n",
       "      <td>5201</td>\n",
       "      <td>105</td>\n",
       "      <td>4932.0</td>\n",
       "      <td>164.0</td>\n",
       "    </tr>\n",
       "  </tbody>\n",
       "</table>\n",
       "</div>"
      ],
      "text/plain": [
       "  province_state country_region        date  confirmed  deaths  recovered  \\\n",
       "0      Hong Kong          China  2022-03-15     647631    4568        NaN   \n",
       "1      Hong Kong          China  2022-06-10    1217510    9390        NaN   \n",
       "2      Hong Kong          China  2021-05-04      11790     210    11451.0   \n",
       "3      Hong Kong          China  2020-10-11       5182     105     4919.0   \n",
       "4      Hong Kong          China  2020-10-14       5201     105     4932.0   \n",
       "\n",
       "   active  \n",
       "0     NaN  \n",
       "1     NaN  \n",
       "2   129.0  \n",
       "3   158.0  \n",
       "4   164.0  "
      ]
     },
     "execution_count": 4,
     "metadata": {},
     "output_type": "execute_result"
    }
   ],
   "source": [
    "data_covid.head()"
   ]
  },
  {
   "cell_type": "markdown",
   "metadata": {},
   "source": [
    "Menampilkan 5 data pertama dari dataframe ```h8dsft_P0GC1_Salman_Faishal.csv```"
   ]
  },
  {
   "cell_type": "code",
   "execution_count": 5,
   "metadata": {},
   "outputs": [
    {
     "data": {
      "text/html": [
       "<div>\n",
       "<style scoped>\n",
       "    .dataframe tbody tr th:only-of-type {\n",
       "        vertical-align: middle;\n",
       "    }\n",
       "\n",
       "    .dataframe tbody tr th {\n",
       "        vertical-align: top;\n",
       "    }\n",
       "\n",
       "    .dataframe thead th {\n",
       "        text-align: right;\n",
       "    }\n",
       "</style>\n",
       "<table border=\"1\" class=\"dataframe\">\n",
       "  <thead>\n",
       "    <tr style=\"text-align: right;\">\n",
       "      <th></th>\n",
       "      <th>province_state</th>\n",
       "      <th>country_region</th>\n",
       "      <th>date</th>\n",
       "      <th>confirmed</th>\n",
       "      <th>deaths</th>\n",
       "      <th>recovered</th>\n",
       "      <th>active</th>\n",
       "    </tr>\n",
       "  </thead>\n",
       "  <tbody>\n",
       "    <tr>\n",
       "      <th>33582</th>\n",
       "      <td>Hubei</td>\n",
       "      <td>China</td>\n",
       "      <td>2021-08-02</td>\n",
       "      <td>68201</td>\n",
       "      <td>4512</td>\n",
       "      <td>63665.0</td>\n",
       "      <td>24.0</td>\n",
       "    </tr>\n",
       "    <tr>\n",
       "      <th>33583</th>\n",
       "      <td>Hubei</td>\n",
       "      <td>China</td>\n",
       "      <td>2020-12-06</td>\n",
       "      <td>68149</td>\n",
       "      <td>4512</td>\n",
       "      <td>63633.0</td>\n",
       "      <td>4.0</td>\n",
       "    </tr>\n",
       "    <tr>\n",
       "      <th>33584</th>\n",
       "      <td>Hubei</td>\n",
       "      <td>China</td>\n",
       "      <td>2021-05-02</td>\n",
       "      <td>68158</td>\n",
       "      <td>4512</td>\n",
       "      <td>63640.0</td>\n",
       "      <td>6.0</td>\n",
       "    </tr>\n",
       "    <tr>\n",
       "      <th>33585</th>\n",
       "      <td>Hubei</td>\n",
       "      <td>China</td>\n",
       "      <td>2020-09-25</td>\n",
       "      <td>68139</td>\n",
       "      <td>4512</td>\n",
       "      <td>63627.0</td>\n",
       "      <td>0.0</td>\n",
       "    </tr>\n",
       "    <tr>\n",
       "      <th>33586</th>\n",
       "      <td>Hubei</td>\n",
       "      <td>China</td>\n",
       "      <td>2021-09-19</td>\n",
       "      <td>68295</td>\n",
       "      <td>4512</td>\n",
       "      <td>NaN</td>\n",
       "      <td>NaN</td>\n",
       "    </tr>\n",
       "  </tbody>\n",
       "</table>\n",
       "</div>"
      ],
      "text/plain": [
       "      province_state country_region        date  confirmed  deaths  recovered  \\\n",
       "33582          Hubei          China  2021-08-02      68201    4512    63665.0   \n",
       "33583          Hubei          China  2020-12-06      68149    4512    63633.0   \n",
       "33584          Hubei          China  2021-05-02      68158    4512    63640.0   \n",
       "33585          Hubei          China  2020-09-25      68139    4512    63627.0   \n",
       "33586          Hubei          China  2021-09-19      68295    4512        NaN   \n",
       "\n",
       "       active  \n",
       "33582    24.0  \n",
       "33583     4.0  \n",
       "33584     6.0  \n",
       "33585     0.0  \n",
       "33586     NaN  "
      ]
     },
     "execution_count": 5,
     "metadata": {},
     "output_type": "execute_result"
    }
   ],
   "source": [
    "data_covid.tail() # Menampilkan 5 data terakhir dari dataframe yang sudah di filter negaranya"
   ]
  },
  {
   "cell_type": "markdown",
   "metadata": {},
   "source": [
    "## Data Characteristic"
   ]
  },
  {
   "cell_type": "code",
   "execution_count": 6,
   "metadata": {},
   "outputs": [
    {
     "data": {
      "text/plain": [
       "(33587, 7)"
      ]
     },
     "execution_count": 6,
     "metadata": {},
     "output_type": "execute_result"
    }
   ],
   "source": [
    "data_covid.shape # Menampilkan bentuk dataframe"
   ]
  },
  {
   "cell_type": "code",
   "execution_count": 7,
   "metadata": {},
   "outputs": [
    {
     "name": "stdout",
     "output_type": "stream",
     "text": [
      "<class 'pandas.core.frame.DataFrame'>\n",
      "RangeIndex: 33587 entries, 0 to 33586\n",
      "Data columns (total 7 columns):\n",
      " #   Column          Non-Null Count  Dtype  \n",
      "---  ------          --------------  -----  \n",
      " 0   province_state  33587 non-null  object \n",
      " 1   country_region  33587 non-null  object \n",
      " 2   date            33587 non-null  object \n",
      " 3   confirmed       33587 non-null  int64  \n",
      " 4   deaths          33587 non-null  int64  \n",
      " 5   recovered       17063 non-null  float64\n",
      " 6   active          16687 non-null  float64\n",
      "dtypes: float64(2), int64(2), object(3)\n",
      "memory usage: 1.8+ MB\n"
     ]
    }
   ],
   "source": [
    "data_covid.info() # Menampilkan info dari dataframe"
   ]
  },
  {
   "cell_type": "markdown",
   "metadata": {},
   "source": [
    "Dataset ini terdiri dari\n",
    "\n",
    "- 2 kolom dengan tipe data float\n",
    "- 3 kolom dengan tipe data object\n",
    "- 2 kolom dengan tipe data int\n",
    "\n",
    "dari info tersebut terdapat beebrapa kolom yang tidak terisi"
   ]
  },
  {
   "cell_type": "code",
   "execution_count": 8,
   "metadata": {},
   "outputs": [
    {
     "data": {
      "text/html": [
       "<div>\n",
       "<style scoped>\n",
       "    .dataframe tbody tr th:only-of-type {\n",
       "        vertical-align: middle;\n",
       "    }\n",
       "\n",
       "    .dataframe tbody tr th {\n",
       "        vertical-align: top;\n",
       "    }\n",
       "\n",
       "    .dataframe thead th {\n",
       "        text-align: right;\n",
       "    }\n",
       "</style>\n",
       "<table border=\"1\" class=\"dataframe\">\n",
       "  <thead>\n",
       "    <tr style=\"text-align: right;\">\n",
       "      <th></th>\n",
       "      <th>count</th>\n",
       "      <th>mean</th>\n",
       "      <th>std</th>\n",
       "      <th>min</th>\n",
       "      <th>25%</th>\n",
       "      <th>50%</th>\n",
       "      <th>75%</th>\n",
       "      <th>max</th>\n",
       "    </tr>\n",
       "  </thead>\n",
       "  <tbody>\n",
       "    <tr>\n",
       "      <th>confirmed</th>\n",
       "      <td>33587.0</td>\n",
       "      <td>21056.818174</td>\n",
       "      <td>147152.018357</td>\n",
       "      <td>0.0</td>\n",
       "      <td>254.0</td>\n",
       "      <td>937.0</td>\n",
       "      <td>1683.0</td>\n",
       "      <td>2148489.0</td>\n",
       "    </tr>\n",
       "    <tr>\n",
       "      <th>deaths</th>\n",
       "      <td>33587.0</td>\n",
       "      <td>218.849704</td>\n",
       "      <td>1125.018502</td>\n",
       "      <td>0.0</td>\n",
       "      <td>1.0</td>\n",
       "      <td>3.0</td>\n",
       "      <td>7.0</td>\n",
       "      <td>10790.0</td>\n",
       "    </tr>\n",
       "    <tr>\n",
       "      <th>recovered</th>\n",
       "      <td>17063.0</td>\n",
       "      <td>2640.019516</td>\n",
       "      <td>10772.236680</td>\n",
       "      <td>0.0</td>\n",
       "      <td>178.0</td>\n",
       "      <td>536.0</td>\n",
       "      <td>985.0</td>\n",
       "      <td>64435.0</td>\n",
       "    </tr>\n",
       "    <tr>\n",
       "      <th>active</th>\n",
       "      <td>16687.0</td>\n",
       "      <td>26.500929</td>\n",
       "      <td>130.245142</td>\n",
       "      <td>-195.0</td>\n",
       "      <td>0.0</td>\n",
       "      <td>2.0</td>\n",
       "      <td>11.0</td>\n",
       "      <td>5223.0</td>\n",
       "    </tr>\n",
       "  </tbody>\n",
       "</table>\n",
       "</div>"
      ],
      "text/plain": [
       "             count          mean            std    min    25%    50%     75%  \\\n",
       "confirmed  33587.0  21056.818174  147152.018357    0.0  254.0  937.0  1683.0   \n",
       "deaths     33587.0    218.849704    1125.018502    0.0    1.0    3.0     7.0   \n",
       "recovered  17063.0   2640.019516   10772.236680    0.0  178.0  536.0   985.0   \n",
       "active     16687.0     26.500929     130.245142 -195.0    0.0    2.0    11.0   \n",
       "\n",
       "                 max  \n",
       "confirmed  2148489.0  \n",
       "deaths       10790.0  \n",
       "recovered    64435.0  \n",
       "active        5223.0  "
      ]
     },
     "execution_count": 8,
     "metadata": {},
     "output_type": "execute_result"
    }
   ],
   "source": [
    "data_covid.describe().T # Menampilkan summary statistic dari dataframe"
   ]
  },
  {
   "cell_type": "markdown",
   "metadata": {},
   "source": [
    "Dari hasil di atas kita dapat melihat summary statistics dari kolom dataframe dengan tipe data numeric seperti rata-rata, standar deviasi, quartile, nilai minimum, dan nilai maksimum."
   ]
  },
  {
   "cell_type": "markdown",
   "metadata": {},
   "source": [
    "## Data Cleansing"
   ]
  },
  {
   "cell_type": "markdown",
   "metadata": {},
   "source": [
    "### Missing Value Check"
   ]
  },
  {
   "cell_type": "code",
   "execution_count": 9,
   "metadata": {},
   "outputs": [
    {
     "data": {
      "text/plain": [
       "province_state        0\n",
       "country_region        0\n",
       "date                  0\n",
       "confirmed             0\n",
       "deaths                0\n",
       "recovered         16524\n",
       "active            16900\n",
       "dtype: int64"
      ]
     },
     "execution_count": 9,
     "metadata": {},
     "output_type": "execute_result"
    }
   ],
   "source": [
    "data_covid.isna().sum() # Menampilkan jumalah dari value yang kosong"
   ]
  },
  {
   "cell_type": "code",
   "execution_count": 10,
   "metadata": {},
   "outputs": [
    {
     "name": "stdout",
     "output_type": "stream",
     "text": [
      "Persentase missing value dari kolom recovered: 49.20%\n",
      "Persentase missing value dari kolom active: 50.32%\n"
     ]
    }
   ],
   "source": [
    "print(f'Persentase missing value dari kolom recovered: {(data_covid.recovered.isna().sum()/len(data_covid)*100):.2f}%') # Menghitung persentase missing value\n",
    "print(f'Persentase missing value dari kolom active: {(data_covid.active.isna().sum()/len(data_covid)*100):.2f}%')"
   ]
  },
  {
   "cell_type": "markdown",
   "metadata": {},
   "source": [
    "Data tersebut memiliki 2 kolom missing value yaitu:\n",
    "- recovered sebanyak 16524 atau dalam persentase sebesar 49,20% missing value\n",
    "- active sebanyak 16524 atau dalam persentase sebesar 50,32% missing value"
   ]
  },
  {
   "cell_type": "markdown",
   "metadata": {},
   "source": [
    "### Drop Column"
   ]
  },
  {
   "cell_type": "code",
   "execution_count": 11,
   "metadata": {},
   "outputs": [],
   "source": [
    "data_covid.drop( columns = ['recovered', 'active'],inplace = True)\n",
    "# Menghapus kolom recovered dan active \n"
   ]
  },
  {
   "cell_type": "markdown",
   "metadata": {},
   "source": [
    "Menghapus 2 kolom yang tidak akan digunakan pada analisis ini karena memiliki missing value lebih dari 40%  dan kemungkinan besar data tersebut tidak dapat di analisis."
   ]
  },
  {
   "cell_type": "code",
   "execution_count": 12,
   "metadata": {},
   "outputs": [
    {
     "name": "stdout",
     "output_type": "stream",
     "text": [
      "<class 'pandas.core.frame.DataFrame'>\n",
      "RangeIndex: 33587 entries, 0 to 33586\n",
      "Data columns (total 5 columns):\n",
      " #   Column          Non-Null Count  Dtype \n",
      "---  ------          --------------  ----- \n",
      " 0   province_state  33587 non-null  object\n",
      " 1   country_region  33587 non-null  object\n",
      " 2   date            33587 non-null  object\n",
      " 3   confirmed       33587 non-null  int64 \n",
      " 4   deaths          33587 non-null  int64 \n",
      "dtypes: int64(2), object(3)\n",
      "memory usage: 1.3+ MB\n"
     ]
    }
   ],
   "source": [
    "data_covid.info() # Menampilkan info dari dataframe"
   ]
  },
  {
   "cell_type": "markdown",
   "metadata": {},
   "source": [
    "Seteleah ada perubahan pada kolom, Dataframe ini terdiri dari:\n",
    "\n",
    "- 2 kolom dengan tipe data float\n",
    "- 3 kolom dengan tipe data object"
   ]
  },
  {
   "cell_type": "code",
   "execution_count": 13,
   "metadata": {},
   "outputs": [
    {
     "data": {
      "text/html": [
       "<div>\n",
       "<style scoped>\n",
       "    .dataframe tbody tr th:only-of-type {\n",
       "        vertical-align: middle;\n",
       "    }\n",
       "\n",
       "    .dataframe tbody tr th {\n",
       "        vertical-align: top;\n",
       "    }\n",
       "\n",
       "    .dataframe thead th {\n",
       "        text-align: right;\n",
       "    }\n",
       "</style>\n",
       "<table border=\"1\" class=\"dataframe\">\n",
       "  <thead>\n",
       "    <tr style=\"text-align: right;\">\n",
       "      <th></th>\n",
       "      <th>count</th>\n",
       "      <th>mean</th>\n",
       "      <th>std</th>\n",
       "      <th>min</th>\n",
       "      <th>25%</th>\n",
       "      <th>50%</th>\n",
       "      <th>75%</th>\n",
       "      <th>max</th>\n",
       "    </tr>\n",
       "  </thead>\n",
       "  <tbody>\n",
       "    <tr>\n",
       "      <th>confirmed</th>\n",
       "      <td>33587.0</td>\n",
       "      <td>21056.818174</td>\n",
       "      <td>147152.018357</td>\n",
       "      <td>0.0</td>\n",
       "      <td>254.0</td>\n",
       "      <td>937.0</td>\n",
       "      <td>1683.0</td>\n",
       "      <td>2148489.0</td>\n",
       "    </tr>\n",
       "    <tr>\n",
       "      <th>deaths</th>\n",
       "      <td>33587.0</td>\n",
       "      <td>218.849704</td>\n",
       "      <td>1125.018502</td>\n",
       "      <td>0.0</td>\n",
       "      <td>1.0</td>\n",
       "      <td>3.0</td>\n",
       "      <td>7.0</td>\n",
       "      <td>10790.0</td>\n",
       "    </tr>\n",
       "  </tbody>\n",
       "</table>\n",
       "</div>"
      ],
      "text/plain": [
       "             count          mean            std  min    25%    50%     75%  \\\n",
       "confirmed  33587.0  21056.818174  147152.018357  0.0  254.0  937.0  1683.0   \n",
       "deaths     33587.0    218.849704    1125.018502  0.0    1.0    3.0     7.0   \n",
       "\n",
       "                 max  \n",
       "confirmed  2148489.0  \n",
       "deaths       10790.0  "
      ]
     },
     "execution_count": 13,
     "metadata": {},
     "output_type": "execute_result"
    }
   ],
   "source": [
    "data_covid.describe().T"
   ]
  },
  {
   "cell_type": "markdown",
   "metadata": {},
   "source": [
    "Dari hasil di atas kita dapat melihat summary statistics yang sudah berubah karena beberapa kolom sudah dihapus"
   ]
  },
  {
   "cell_type": "code",
   "execution_count": 14,
   "metadata": {},
   "outputs": [
    {
     "data": {
      "text/plain": [
       "province_state    0\n",
       "country_region    0\n",
       "date              0\n",
       "confirmed         0\n",
       "deaths            0\n",
       "dtype: int64"
      ]
     },
     "execution_count": 14,
     "metadata": {},
     "output_type": "execute_result"
    }
   ],
   "source": [
    "data_covid.isna().sum() # Menampilkan jumalah dari value yang kosong"
   ]
  },
  {
   "cell_type": "markdown",
   "metadata": {},
   "source": [
    "Setelah melakukan penghapusan kolom tidak terdapat lagi missing value"
   ]
  },
  {
   "cell_type": "markdown",
   "metadata": {},
   "source": [
    "## Rename Column"
   ]
  },
  {
   "cell_type": "code",
   "execution_count": 15,
   "metadata": {},
   "outputs": [
    {
     "data": {
      "text/html": [
       "<div>\n",
       "<style scoped>\n",
       "    .dataframe tbody tr th:only-of-type {\n",
       "        vertical-align: middle;\n",
       "    }\n",
       "\n",
       "    .dataframe tbody tr th {\n",
       "        vertical-align: top;\n",
       "    }\n",
       "\n",
       "    .dataframe thead th {\n",
       "        text-align: right;\n",
       "    }\n",
       "</style>\n",
       "<table border=\"1\" class=\"dataframe\">\n",
       "  <thead>\n",
       "    <tr style=\"text-align: right;\">\n",
       "      <th></th>\n",
       "      <th>province_state</th>\n",
       "      <th>country_region</th>\n",
       "      <th>date</th>\n",
       "      <th>confirmed</th>\n",
       "      <th>deaths</th>\n",
       "    </tr>\n",
       "  </thead>\n",
       "  <tbody>\n",
       "    <tr>\n",
       "      <th>0</th>\n",
       "      <td>Hong Kong</td>\n",
       "      <td>China</td>\n",
       "      <td>2022-03-15</td>\n",
       "      <td>647631</td>\n",
       "      <td>4568</td>\n",
       "    </tr>\n",
       "    <tr>\n",
       "      <th>1</th>\n",
       "      <td>Hong Kong</td>\n",
       "      <td>China</td>\n",
       "      <td>2022-06-10</td>\n",
       "      <td>1217510</td>\n",
       "      <td>9390</td>\n",
       "    </tr>\n",
       "    <tr>\n",
       "      <th>2</th>\n",
       "      <td>Hong Kong</td>\n",
       "      <td>China</td>\n",
       "      <td>2021-05-04</td>\n",
       "      <td>11790</td>\n",
       "      <td>210</td>\n",
       "    </tr>\n",
       "    <tr>\n",
       "      <th>3</th>\n",
       "      <td>Hong Kong</td>\n",
       "      <td>China</td>\n",
       "      <td>2020-10-11</td>\n",
       "      <td>5182</td>\n",
       "      <td>105</td>\n",
       "    </tr>\n",
       "    <tr>\n",
       "      <th>4</th>\n",
       "      <td>Hong Kong</td>\n",
       "      <td>China</td>\n",
       "      <td>2020-10-14</td>\n",
       "      <td>5201</td>\n",
       "      <td>105</td>\n",
       "    </tr>\n",
       "  </tbody>\n",
       "</table>\n",
       "</div>"
      ],
      "text/plain": [
       "  province_state country_region        date  confirmed  deaths\n",
       "0      Hong Kong          China  2022-03-15     647631    4568\n",
       "1      Hong Kong          China  2022-06-10    1217510    9390\n",
       "2      Hong Kong          China  2021-05-04      11790     210\n",
       "3      Hong Kong          China  2020-10-11       5182     105\n",
       "4      Hong Kong          China  2020-10-14       5201     105"
      ]
     },
     "execution_count": 15,
     "metadata": {},
     "output_type": "execute_result"
    }
   ],
   "source": [
    "data_covid.head() # Menampilkan 5 data teratas dari dataframe"
   ]
  },
  {
   "cell_type": "markdown",
   "metadata": {},
   "source": [
    "Dataframe sebelum dilakukan perubahan nama pada kolom"
   ]
  },
  {
   "cell_type": "code",
   "execution_count": 16,
   "metadata": {},
   "outputs": [],
   "source": [
    "data_covid = data_covid.rename(columns={'province_state': 'state', 'country_region': 'country'}) # Mengganti nama kolom province_state menjadi state dan country_region menjadi country"
   ]
  },
  {
   "cell_type": "code",
   "execution_count": 17,
   "metadata": {},
   "outputs": [
    {
     "data": {
      "text/html": [
       "<div>\n",
       "<style scoped>\n",
       "    .dataframe tbody tr th:only-of-type {\n",
       "        vertical-align: middle;\n",
       "    }\n",
       "\n",
       "    .dataframe tbody tr th {\n",
       "        vertical-align: top;\n",
       "    }\n",
       "\n",
       "    .dataframe thead th {\n",
       "        text-align: right;\n",
       "    }\n",
       "</style>\n",
       "<table border=\"1\" class=\"dataframe\">\n",
       "  <thead>\n",
       "    <tr style=\"text-align: right;\">\n",
       "      <th></th>\n",
       "      <th>state</th>\n",
       "      <th>country</th>\n",
       "      <th>date</th>\n",
       "      <th>confirmed</th>\n",
       "      <th>deaths</th>\n",
       "    </tr>\n",
       "  </thead>\n",
       "  <tbody>\n",
       "    <tr>\n",
       "      <th>33582</th>\n",
       "      <td>Hubei</td>\n",
       "      <td>China</td>\n",
       "      <td>2021-08-02</td>\n",
       "      <td>68201</td>\n",
       "      <td>4512</td>\n",
       "    </tr>\n",
       "    <tr>\n",
       "      <th>33583</th>\n",
       "      <td>Hubei</td>\n",
       "      <td>China</td>\n",
       "      <td>2020-12-06</td>\n",
       "      <td>68149</td>\n",
       "      <td>4512</td>\n",
       "    </tr>\n",
       "    <tr>\n",
       "      <th>33584</th>\n",
       "      <td>Hubei</td>\n",
       "      <td>China</td>\n",
       "      <td>2021-05-02</td>\n",
       "      <td>68158</td>\n",
       "      <td>4512</td>\n",
       "    </tr>\n",
       "    <tr>\n",
       "      <th>33585</th>\n",
       "      <td>Hubei</td>\n",
       "      <td>China</td>\n",
       "      <td>2020-09-25</td>\n",
       "      <td>68139</td>\n",
       "      <td>4512</td>\n",
       "    </tr>\n",
       "    <tr>\n",
       "      <th>33586</th>\n",
       "      <td>Hubei</td>\n",
       "      <td>China</td>\n",
       "      <td>2021-09-19</td>\n",
       "      <td>68295</td>\n",
       "      <td>4512</td>\n",
       "    </tr>\n",
       "  </tbody>\n",
       "</table>\n",
       "</div>"
      ],
      "text/plain": [
       "       state country        date  confirmed  deaths\n",
       "33582  Hubei   China  2021-08-02      68201    4512\n",
       "33583  Hubei   China  2020-12-06      68149    4512\n",
       "33584  Hubei   China  2021-05-02      68158    4512\n",
       "33585  Hubei   China  2020-09-25      68139    4512\n",
       "33586  Hubei   China  2021-09-19      68295    4512"
      ]
     },
     "execution_count": 17,
     "metadata": {},
     "output_type": "execute_result"
    }
   ],
   "source": [
    "data_covid.tail() # Menampilkan 5 data terbawah dari dataframe"
   ]
  },
  {
   "cell_type": "markdown",
   "metadata": {},
   "source": [
    "Setelah dilakukan perubahan nama pada kolom"
   ]
  },
  {
   "cell_type": "code",
   "execution_count": 18,
   "metadata": {},
   "outputs": [],
   "source": [
    "data_covid['date'] = pd.to_datetime(data_covid.date) # Melakukan perubahan tipe data menjadi datetime"
   ]
  },
  {
   "cell_type": "code",
   "execution_count": 19,
   "metadata": {},
   "outputs": [
    {
     "name": "stdout",
     "output_type": "stream",
     "text": [
      "<class 'pandas.core.frame.DataFrame'>\n",
      "RangeIndex: 33587 entries, 0 to 33586\n",
      "Data columns (total 5 columns):\n",
      " #   Column     Non-Null Count  Dtype         \n",
      "---  ------     --------------  -----         \n",
      " 0   state      33587 non-null  object        \n",
      " 1   country    33587 non-null  object        \n",
      " 2   date       33587 non-null  datetime64[ns]\n",
      " 3   confirmed  33587 non-null  int64         \n",
      " 4   deaths     33587 non-null  int64         \n",
      "dtypes: datetime64[ns](1), int64(2), object(2)\n",
      "memory usage: 1.3+ MB\n"
     ]
    }
   ],
   "source": [
    "data_covid.info() # Menampilkan info dari dataframe"
   ]
  },
  {
   "cell_type": "markdown",
   "metadata": {},
   "source": [
    "Setelah dilakukan perubahan tipe data, kolom date berubah menjadi datetime yang sebelumnya memiliki tipe data object, sehingga dataframe ini terdiri dari:\n",
    "\n",
    "- 1 kolom dengan tipe data datetime\n",
    "- 2 kolom dengan tipe data int\n",
    "- 2 kolom dengan tipe data object"
   ]
  },
  {
   "cell_type": "markdown",
   "metadata": {},
   "source": [
    "## Data Exploration"
   ]
  },
  {
   "cell_type": "markdown",
   "metadata": {},
   "source": [
    "1. Daerah mana yang memiliki tingkat kematian tertinggi di negara China?"
   ]
  },
  {
   "cell_type": "code",
   "execution_count": 20,
   "metadata": {},
   "outputs": [
    {
     "data": {
      "text/plain": [
       "state\n",
       "Beijing      8990\n",
       "Chongqing    5994\n",
       "Anhui        5988\n",
       "Gansu        1996\n",
       "Fujian        998\n",
       "Name: deaths, dtype: int64"
      ]
     },
     "execution_count": 20,
     "metadata": {},
     "output_type": "execute_result"
    }
   ],
   "source": [
    "data_covid.groupby(['state'])['deaths'].sum().head().sort_values(ascending=False) # Menjumlahkan value kolom deaths berdasarkan setiap daerah yang terdapat di kolom state"
   ]
  },
  {
   "cell_type": "code",
   "execution_count": 21,
   "metadata": {},
   "outputs": [
    {
     "data": {
      "text/plain": [
       "<AxesSubplot: title={'center': ' Grafik tingkat kematian di negara China'}, xlabel='state'>"
      ]
     },
     "execution_count": 21,
     "metadata": {},
     "output_type": "execute_result"
    },
    {
     "data": {
      "image/png": "[encoded data removed]",
      "text/plain": [
       "<Figure size 640x480 with 1 Axes>"
      ]
     },
     "metadata": {},
     "output_type": "display_data"
    }
   ],
   "source": [
    "data_covid.groupby(['state'])['deaths'].sum().head().sort_values(ascending=False).plot(kind = 'bar', title= ' Grafik tingkat kematian di negara China')\n",
    "# Menjumlahkan value kolom deaths berdasarkan setiap daerah yang terdapat di kolom state dan menampilkan dalam bentuk visualisasi data"
   ]
  },
  {
   "cell_type": "markdown",
   "metadata": {},
   "source": [
    "Hasil query diatas menampilkan 5 daerah yang memiliki kematian terbanyak dari yang paling tinggi ke terendah, lebih tepatnya:\n",
    "- Beijing sebanyak 8990 orang meninggal\n",
    "- Chongqing sebanyak 5994 orang meninggal\n",
    "- Anhui sebanyak 5988 orang meninggal\n",
    "- Gansu sebanyak 1996 orang meninggal\n",
    "- Fujian sebanyak 998 orang meninggal"
   ]
  },
  {
   "cell_type": "code",
   "execution_count": 22,
   "metadata": {},
   "outputs": [
    {
     "data": {
      "text/plain": [
       "9.008016032064129"
      ]
     },
     "execution_count": 22,
     "metadata": {},
     "output_type": "execute_result"
    }
   ],
   "source": [
    "data_covid[data_covid.state == 'Beijing'].deaths.mean() # Melakukan perhitungan rata rata di daerah Beijing"
   ]
  },
  {
   "cell_type": "markdown",
   "metadata": {},
   "source": [
    "2. Tahun berapa dan dimana terjadinya kasus kematian tertinggi di negara China?"
   ]
  },
  {
   "cell_type": "code",
   "execution_count": 23,
   "metadata": {},
   "outputs": [
    {
     "data": {
      "text/plain": [
       "date  state    \n",
       "2020  Beijing      2618\n",
       "      Anhui        1776\n",
       "      Chongqing    1776\n",
       "      Gansu         592\n",
       "      Fujian        296\n",
       "Name: deaths, dtype: int64"
      ]
     },
     "execution_count": 23,
     "metadata": {},
     "output_type": "execute_result"
    }
   ],
   "source": [
    "data_covid.groupby([data_covid.date.dt.year,'state'])['deaths'].sum().head().sort_values(ascending= False)\n",
    "# Menjumlahkan value kolom deaths berdasarkan setiap daerah yang terdapat di kolom state dan tanggal sesuai tahun pada kolom date"
   ]
  },
  {
   "cell_type": "markdown",
   "metadata": {},
   "source": [
    "Dari hasil grouping diatas jumlah kematian tertinggi di setiap daerah berada di tahun 2020 dan yang mengalami kematian terbanyak berada di daerah Beijing"
   ]
  },
  {
   "cell_type": "code",
   "execution_count": 24,
   "metadata": {},
   "outputs": [
    {
     "data": {
      "text/plain": [
       "<AxesSubplot: title={'center': 'Grafik kematian tertinggi di negara China'}, ylabel='date,state'>"
      ]
     },
     "execution_count": 24,
     "metadata": {},
     "output_type": "execute_result"
    },
    {
     "data": {
      "image/png": "[encoded data removed]",
      "text/plain": [
       "<Figure size 640x480 with 1 Axes>"
      ]
     },
     "metadata": {},
     "output_type": "display_data"
    }
   ],
   "source": [
    "data_covid.groupby([data_covid.date.dt.year,'state'])['deaths'].sum().head().sort_values().plot(kind = 'barh', title=('Grafik kematian tertinggi di negara China'))\n",
    "# Menjumlahkan kolom deaths berdasarkan setiap daerah yang terdapat di kolom state dan tanggal sesuai tahun pada kolom date, dan memvisualisasikan datanya"
   ]
  },
  {
   "cell_type": "markdown",
   "metadata": {},
   "source": [
    "Pada grafik diatas daerah yang mengalami kematian tertinggi adalah Beijing pada tahun 2020"
   ]
  },
  {
   "cell_type": "markdown",
   "metadata": {},
   "source": [
    "3. Didaerah mana kasus baru terbanyak ditemukan dinegara China?"
   ]
  },
  {
   "cell_type": "code",
   "execution_count": 25,
   "metadata": {},
   "outputs": [
    {
     "data": {
      "text/plain": [
       "state\n",
       "Beijing      1772320\n",
       "Fujian       1542152\n",
       "Anhui        1081947\n",
       "Chongqing     743228\n",
       "Gansu         428946\n",
       "Name: confirmed, dtype: int64"
      ]
     },
     "execution_count": 25,
     "metadata": {},
     "output_type": "execute_result"
    }
   ],
   "source": [
    "data_covid.groupby(['state'])['confirmed'].sum().head().sort_values(ascending= False)\n",
    "# Menjumlahkan value kolom confirmed berdasarkan setiap daerah yang terdapat di kolom state"
   ]
  },
  {
   "cell_type": "code",
   "execution_count": 26,
   "metadata": {},
   "outputs": [
    {
     "data": {
      "text/plain": [
       "date\n",
       "2020     241638\n",
       "2021     399026\n",
       "2022    1131656\n",
       "Name: confirmed, dtype: int64"
      ]
     },
     "execution_count": 26,
     "metadata": {},
     "output_type": "execute_result"
    }
   ],
   "source": [
    "data_covid[data_covid.state == 'Beijing'].groupby(data_covid.date.dt.year).confirmed.sum()\n",
    "# Menjumlahkan value kolom confirmed dan melakukan filter terhadap kolom state untuk menampilkan daerah Beijing berdasarkan tanggal tiap tahun  "
   ]
  },
  {
   "cell_type": "markdown",
   "metadata": {},
   "source": [
    "Dari dataframe diatas jumlah kasus baru yang sudah dikonfirmasi didaerah Beijing sebanyak 1,772,320 orang diantaranya:\n",
    "\n",
    "- pada tahun 2020 sebanyak 241638 orang\n",
    "- pada tahun 2021 sebanyak 399026 orang\n",
    "- pada tahun 2022 sebanyak 1131656 orang"
   ]
  },
  {
   "cell_type": "code",
   "execution_count": 27,
   "metadata": {},
   "outputs": [
    {
     "data": {
      "text/plain": [
       "<AxesSubplot: title={'center': ' Grafik kasus baru terbanyak di China'}, ylabel='state'>"
      ]
     },
     "execution_count": 27,
     "metadata": {},
     "output_type": "execute_result"
    },
    {
     "data": {
      "image/png": "[encoded data removed]",
      "text/plain": [
       "<Figure size 640x480 with 1 Axes>"
      ]
     },
     "metadata": {},
     "output_type": "display_data"
    }
   ],
   "source": [
    "data_covid.groupby(['state'])['confirmed'].sum().head().sort_values().plot(kind = 'barh',title= ' Grafik kasus baru terbanyak di China')\n",
    "# Menjumlahkan value kolom confirmed berdasarkan setiap daerah yang terdapat di kolom state dan menampilkan dalam bentuk visualisasi data"
   ]
  },
  {
   "cell_type": "markdown",
   "metadata": {},
   "source": [
    "Dari hasil grafik diatas, Beijing adalah daerah yang memiliki kasus baru tertinggi"
   ]
  },
  {
   "cell_type": "markdown",
   "metadata": {},
   "source": [
    "## Conclusions, Assumptions, Overall Analysis"
   ]
  },
  {
   "cell_type": "markdown",
   "metadata": {},
   "source": [
    "Kesimpulan yang dapat ditarik dari hasil data explorasi ini adalah:\n",
    "\n",
    "- Daerah mana yang memiliki tingkat kematian tertinggi di negara China?\n",
    "\n",
    "Daerah yang mengalami tingkat kematian tertinggi adalah negara ```Beijing``` karena di daerah Beijing mengalami peningkatan tertinggi pada tahun 2020.\n",
    "\n",
    "- Tahun berapa dan dimana terjadinya kasus kematian tertinggi di negara China?\n",
    "\n",
    "Jumlah kematian di Beijing pada tahun ```2020``` menjadi yang tertinggi di China dibandingkan dengan daerah lain, dan jumlah kematian tertinggi di tahun 2020 ini bisa menjadi faktor penyebab daerah Beijing mengalami kematian terbanyak di China sesuai dengan analisis yang tertera di point 1.\n",
    "\n",
    "- Didaerah mana kasus baru terbanyak ditemukan dinegara China?\n",
    "  \n",
    "Kasus baru dengan jumlah paling banyak di temukan di daerah ```Beijing``` sebanyak 1,131,656 orang, hal ini juga bisa menjadi faktor penyebab kematian terbanyak di Beijing.\n",
    "\n",
    "\n",
    "\n",
    "Kasus rata rata kematian di negara China adalah 218.84 dan kasus rata rata kematian di daerah Beijing adalah 9 sehingga kasus kematian di Beijing masih dibawah kasus kematian rata rata di negara China, sehingga dapat disimpulkan bahwa baik pemerintah maupun tenaga medis daerah Beijing mampu melakaukan penanganan yang tepat."
   ]
  }
 ],
 "metadata": {
  "kernelspec": {
   "display_name": "Python 3.10.4 64-bit",
   "language": "python",
   "name": "python3"
  },
  "language_info": {
   "codemirror_mode": {
    "name": "ipython",
    "version": 3
   },
   "file_extension": ".py",
   "mimetype": "text/x-python",
   "name": "python",
   "nbconvert_exporter": "python",
   "pygments_lexer": "ipython3",
   "version": "3.10.4"
  },
  "orig_nbformat": 4,
  "vscode": {
   "interpreter": {
    "hash": "4217bdb66c1619d3c7bf3a5f6dea8f7bd4200ce5b7b90b812037b80bad35d2ee"
   }
  }
 },
 "nbformat": 4,
 "nbformat_minor": 2
}
